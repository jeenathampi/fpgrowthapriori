{
  "nbformat": 4,
  "nbformat_minor": 0,
  "metadata": {
    "colab": {
      "name": "fpgrowth_and_frequent_pattern_mining_apriori.ipynb",
      "provenance": [],
      "toc_visible": true,
      "authorship_tag": "ABX9TyMlTLfar4LqZC7o79ryJVH3",
      "include_colab_link": true
    },
    "kernelspec": {
      "name": "python3",
      "display_name": "Python 3"
    },
    "language_info": {
      "name": "python"
    }
  },
  "cells": [
    {
      "cell_type": "markdown",
      "metadata": {
        "id": "view-in-github",
        "colab_type": "text"
      },
      "source": [
        "<a href=\"https://colab.research.google.com/github/jeenathampi/fpgrowthapriori/blob/master/fpgrowth_and_frequent_pattern_mining_apriori.ipynb\" target=\"_parent\"><img src=\"https://colab.research.google.com/assets/colab-badge.svg\" alt=\"Open In Colab\"/></a>"
      ]
    },
    {
      "cell_type": "code",
      "metadata": {
        "colab": {
          "base_uri": "https://localhost:8080/"
        },
        "id": "8WdH4ELwhlHa",
        "outputId": "3de3f710-3939-45a4-9a15-fd99b5465deb"
      },
      "source": [
        "import time\n",
        "import numpy as np\n",
        "import pandas as pd\n",
        "import matplotlib.pyplot as plt\n",
        "from prettytable import PrettyTable\n",
        "from mlxtend.preprocessing import TransactionEncoder\n",
        "!pip install mlxtend --upgrade\n",
        "from mlxtend.frequent_patterns import apriori, association_rules, fpgrowth"
      ],
      "execution_count": null,
      "outputs": [
        {
          "output_type": "stream",
          "name": "stdout",
          "text": [
            "Requirement already satisfied: mlxtend in /usr/local/lib/python3.7/dist-packages (0.19.0)\n",
            "Requirement already satisfied: joblib>=0.13.2 in /usr/local/lib/python3.7/dist-packages (from mlxtend) (1.1.0)\n",
            "Requirement already satisfied: numpy>=1.16.2 in /usr/local/lib/python3.7/dist-packages (from mlxtend) (1.19.5)\n",
            "Requirement already satisfied: matplotlib>=3.0.0 in /usr/local/lib/python3.7/dist-packages (from mlxtend) (3.2.2)\n",
            "Requirement already satisfied: scipy>=1.2.1 in /usr/local/lib/python3.7/dist-packages (from mlxtend) (1.4.1)\n",
            "Requirement already satisfied: pandas>=0.24.2 in /usr/local/lib/python3.7/dist-packages (from mlxtend) (1.1.5)\n",
            "Requirement already satisfied: setuptools in /usr/local/lib/python3.7/dist-packages (from mlxtend) (57.4.0)\n",
            "Requirement already satisfied: scikit-learn>=0.20.3 in /usr/local/lib/python3.7/dist-packages (from mlxtend) (1.0.1)\n",
            "Requirement already satisfied: kiwisolver>=1.0.1 in /usr/local/lib/python3.7/dist-packages (from matplotlib>=3.0.0->mlxtend) (1.3.2)\n",
            "Requirement already satisfied: cycler>=0.10 in /usr/local/lib/python3.7/dist-packages (from matplotlib>=3.0.0->mlxtend) (0.11.0)\n",
            "Requirement already satisfied: python-dateutil>=2.1 in /usr/local/lib/python3.7/dist-packages (from matplotlib>=3.0.0->mlxtend) (2.8.2)\n",
            "Requirement already satisfied: pyparsing!=2.0.4,!=2.1.2,!=2.1.6,>=2.0.1 in /usr/local/lib/python3.7/dist-packages (from matplotlib>=3.0.0->mlxtend) (3.0.6)\n",
            "Requirement already satisfied: pytz>=2017.2 in /usr/local/lib/python3.7/dist-packages (from pandas>=0.24.2->mlxtend) (2018.9)\n",
            "Requirement already satisfied: six>=1.5 in /usr/local/lib/python3.7/dist-packages (from python-dateutil>=2.1->matplotlib>=3.0.0->mlxtend) (1.15.0)\n",
            "Requirement already satisfied: threadpoolctl>=2.0.0 in /usr/local/lib/python3.7/dist-packages (from scikit-learn>=0.20.3->mlxtend) (3.0.0)\n"
          ]
        }
      ]
    },
    {
      "cell_type": "code",
      "source": [
        "import mlxtend\n",
        "print(mlxtend.__version__)"
      ],
      "metadata": {
        "colab": {
          "base_uri": "https://localhost:8080/"
        },
        "id": "5QIPUU_ur3A9",
        "outputId": "947209b1-3da0-423c-9523-f486898394b6"
      },
      "execution_count": null,
      "outputs": [
        {
          "output_type": "stream",
          "name": "stdout",
          "text": [
            "0.19.0\n"
          ]
        }
      ]
    },
    {
      "cell_type": "code",
      "source": [
        "# Load the dataset\n",
        "groceries_data = pd.read_csv(\"https://dataminingassignment.s3.amazonaws.com/Groceries_dataset.csv\")"
      ],
      "metadata": {
        "id": "94AN1aFyqtrK"
      },
      "execution_count": null,
      "outputs": []
    },
    {
      "cell_type": "code",
      "metadata": {
        "colab": {
          "base_uri": "https://localhost:8080/"
        },
        "id": "WerYEMGElj88",
        "outputId": "a0263e97-916c-4284-9479-27f6d427e339"
      },
      "source": [
        "groceries_data.shape"
      ],
      "execution_count": null,
      "outputs": [
        {
          "output_type": "execute_result",
          "data": {
            "text/plain": [
              "(38765, 3)"
            ]
          },
          "metadata": {},
          "execution_count": 34
        }
      ]
    },
    {
      "cell_type": "code",
      "metadata": {
        "colab": {
          "base_uri": "https://localhost:8080/",
          "height": 206
        },
        "id": "zt3ECQhZhX9y",
        "outputId": "e4770383-002b-4d64-cf40-f0bee4480c65"
      },
      "source": [
        "groceries_data.head()"
      ],
      "execution_count": null,
      "outputs": [
        {
          "output_type": "execute_result",
          "data": {
            "text/html": [
              "<div>\n",
              "<style scoped>\n",
              "    .dataframe tbody tr th:only-of-type {\n",
              "        vertical-align: middle;\n",
              "    }\n",
              "\n",
              "    .dataframe tbody tr th {\n",
              "        vertical-align: top;\n",
              "    }\n",
              "\n",
              "    .dataframe thead th {\n",
              "        text-align: right;\n",
              "    }\n",
              "</style>\n",
              "<table border=\"1\" class=\"dataframe\">\n",
              "  <thead>\n",
              "    <tr style=\"text-align: right;\">\n",
              "      <th></th>\n",
              "      <th>Member_number</th>\n",
              "      <th>Date</th>\n",
              "      <th>itemDescription</th>\n",
              "    </tr>\n",
              "  </thead>\n",
              "  <tbody>\n",
              "    <tr>\n",
              "      <th>0</th>\n",
              "      <td>1808</td>\n",
              "      <td>21-07-2015</td>\n",
              "      <td>tropical fruit</td>\n",
              "    </tr>\n",
              "    <tr>\n",
              "      <th>1</th>\n",
              "      <td>2552</td>\n",
              "      <td>05-01-2015</td>\n",
              "      <td>whole milk</td>\n",
              "    </tr>\n",
              "    <tr>\n",
              "      <th>2</th>\n",
              "      <td>2300</td>\n",
              "      <td>19-09-2015</td>\n",
              "      <td>pip fruit</td>\n",
              "    </tr>\n",
              "    <tr>\n",
              "      <th>3</th>\n",
              "      <td>1187</td>\n",
              "      <td>12-12-2015</td>\n",
              "      <td>other vegetables</td>\n",
              "    </tr>\n",
              "    <tr>\n",
              "      <th>4</th>\n",
              "      <td>3037</td>\n",
              "      <td>01-02-2015</td>\n",
              "      <td>whole milk</td>\n",
              "    </tr>\n",
              "  </tbody>\n",
              "</table>\n",
              "</div>"
            ],
            "text/plain": [
              "   Member_number        Date   itemDescription\n",
              "0           1808  21-07-2015    tropical fruit\n",
              "1           2552  05-01-2015        whole milk\n",
              "2           2300  19-09-2015         pip fruit\n",
              "3           1187  12-12-2015  other vegetables\n",
              "4           3037  01-02-2015        whole milk"
            ]
          },
          "metadata": {},
          "execution_count": 35
        }
      ]
    },
    {
      "cell_type": "code",
      "source": [
        "# Get all the transactions as a list of lists\n",
        "all_transactions = [transaction[1]['itemDescription'].tolist() for transaction in list(groceries_data.groupby(['Member_number', 'Date']))]"
      ],
      "metadata": {
        "id": "PNSxr3n7srmz"
      },
      "execution_count": null,
      "outputs": []
    },
    {
      "cell_type": "code",
      "source": [
        "len(all_transactions)"
      ],
      "metadata": {
        "colab": {
          "base_uri": "https://localhost:8080/"
        },
        "id": "q5IUdsWNsrqI",
        "outputId": "20c95c96-4df8-4b1c-a4d9-1057c091dac2"
      },
      "execution_count": null,
      "outputs": [
        {
          "output_type": "execute_result",
          "data": {
            "text/plain": [
              "14963"
            ]
          },
          "metadata": {},
          "execution_count": 37
        }
      ]
    },
    {
      "cell_type": "code",
      "source": [
        "all_transactions[0:10]"
      ],
      "metadata": {
        "colab": {
          "base_uri": "https://localhost:8080/"
        },
        "id": "m658zB1zsrsW",
        "outputId": "9038baac-2d12-40b9-df88-484ad95ebaaa"
      },
      "execution_count": null,
      "outputs": [
        {
          "output_type": "execute_result",
          "data": {
            "text/plain": [
              "[['sausage', 'whole milk', 'semi-finished bread', 'yogurt'],\n",
              " ['whole milk', 'pastry', 'salty snack'],\n",
              " ['canned beer', 'misc. beverages'],\n",
              " ['sausage', 'hygiene articles'],\n",
              " ['soda', 'pickled vegetables'],\n",
              " ['frankfurter', 'curd'],\n",
              " ['sausage', 'whole milk', 'rolls/buns'],\n",
              " ['whole milk', 'soda'],\n",
              " ['beef', 'white bread'],\n",
              " ['frankfurter', 'soda', 'whipped/sour cream']]"
            ]
          },
          "metadata": {},
          "execution_count": 38
        }
      ]
    },
    {
      "cell_type": "code",
      "source": [
        "# The following instructions transform the dataset into the required format \n",
        "trans_encoder = TransactionEncoder() # Instanciate the encoder\n",
        "trans_encoder_matrix = trans_encoder.fit(all_transactions).transform(all_transactions)\n",
        "trans_encoder_matrix = pd.DataFrame(trans_encoder_matrix, columns=trans_encoder.columns_)"
      ],
      "metadata": {
        "id": "Ncjt2x1Csrxh"
      },
      "execution_count": null,
      "outputs": []
    },
    {
      "cell_type": "code",
      "source": [
        "trans_encoder_matrix.head()"
      ],
      "metadata": {
        "colab": {
          "base_uri": "https://localhost:8080/",
          "height": 290
        },
        "id": "2yhj7LHBsr4e",
        "outputId": "1f95ac50-d1d1-48fb-d9a4-7fb5930b2630"
      },
      "execution_count": null,
      "outputs": [
        {
          "output_type": "execute_result",
          "data": {
            "text/html": [
              "<div>\n",
              "<style scoped>\n",
              "    .dataframe tbody tr th:only-of-type {\n",
              "        vertical-align: middle;\n",
              "    }\n",
              "\n",
              "    .dataframe tbody tr th {\n",
              "        vertical-align: top;\n",
              "    }\n",
              "\n",
              "    .dataframe thead th {\n",
              "        text-align: right;\n",
              "    }\n",
              "</style>\n",
              "<table border=\"1\" class=\"dataframe\">\n",
              "  <thead>\n",
              "    <tr style=\"text-align: right;\">\n",
              "      <th></th>\n",
              "      <th>Instant food products</th>\n",
              "      <th>UHT-milk</th>\n",
              "      <th>abrasive cleaner</th>\n",
              "      <th>artif. sweetener</th>\n",
              "      <th>baby cosmetics</th>\n",
              "      <th>bags</th>\n",
              "      <th>baking powder</th>\n",
              "      <th>bathroom cleaner</th>\n",
              "      <th>beef</th>\n",
              "      <th>berries</th>\n",
              "      <th>beverages</th>\n",
              "      <th>bottled beer</th>\n",
              "      <th>bottled water</th>\n",
              "      <th>brandy</th>\n",
              "      <th>brown bread</th>\n",
              "      <th>butter</th>\n",
              "      <th>butter milk</th>\n",
              "      <th>cake bar</th>\n",
              "      <th>candles</th>\n",
              "      <th>candy</th>\n",
              "      <th>canned beer</th>\n",
              "      <th>canned fish</th>\n",
              "      <th>canned fruit</th>\n",
              "      <th>canned vegetables</th>\n",
              "      <th>cat food</th>\n",
              "      <th>cereals</th>\n",
              "      <th>chewing gum</th>\n",
              "      <th>chicken</th>\n",
              "      <th>chocolate</th>\n",
              "      <th>chocolate marshmallow</th>\n",
              "      <th>citrus fruit</th>\n",
              "      <th>cleaner</th>\n",
              "      <th>cling film/bags</th>\n",
              "      <th>cocoa drinks</th>\n",
              "      <th>coffee</th>\n",
              "      <th>condensed milk</th>\n",
              "      <th>cooking chocolate</th>\n",
              "      <th>cookware</th>\n",
              "      <th>cream</th>\n",
              "      <th>cream cheese</th>\n",
              "      <th>...</th>\n",
              "      <th>salt</th>\n",
              "      <th>salty snack</th>\n",
              "      <th>sauces</th>\n",
              "      <th>sausage</th>\n",
              "      <th>seasonal products</th>\n",
              "      <th>semi-finished bread</th>\n",
              "      <th>shopping bags</th>\n",
              "      <th>skin care</th>\n",
              "      <th>sliced cheese</th>\n",
              "      <th>snack products</th>\n",
              "      <th>soap</th>\n",
              "      <th>soda</th>\n",
              "      <th>soft cheese</th>\n",
              "      <th>softener</th>\n",
              "      <th>soups</th>\n",
              "      <th>sparkling wine</th>\n",
              "      <th>specialty bar</th>\n",
              "      <th>specialty cheese</th>\n",
              "      <th>specialty chocolate</th>\n",
              "      <th>specialty fat</th>\n",
              "      <th>specialty vegetables</th>\n",
              "      <th>spices</th>\n",
              "      <th>spread cheese</th>\n",
              "      <th>sugar</th>\n",
              "      <th>sweet spreads</th>\n",
              "      <th>syrup</th>\n",
              "      <th>tea</th>\n",
              "      <th>tidbits</th>\n",
              "      <th>toilet cleaner</th>\n",
              "      <th>tropical fruit</th>\n",
              "      <th>turkey</th>\n",
              "      <th>vinegar</th>\n",
              "      <th>waffles</th>\n",
              "      <th>whipped/sour cream</th>\n",
              "      <th>whisky</th>\n",
              "      <th>white bread</th>\n",
              "      <th>white wine</th>\n",
              "      <th>whole milk</th>\n",
              "      <th>yogurt</th>\n",
              "      <th>zwieback</th>\n",
              "    </tr>\n",
              "  </thead>\n",
              "  <tbody>\n",
              "    <tr>\n",
              "      <th>0</th>\n",
              "      <td>False</td>\n",
              "      <td>False</td>\n",
              "      <td>False</td>\n",
              "      <td>False</td>\n",
              "      <td>False</td>\n",
              "      <td>False</td>\n",
              "      <td>False</td>\n",
              "      <td>False</td>\n",
              "      <td>False</td>\n",
              "      <td>False</td>\n",
              "      <td>False</td>\n",
              "      <td>False</td>\n",
              "      <td>False</td>\n",
              "      <td>False</td>\n",
              "      <td>False</td>\n",
              "      <td>False</td>\n",
              "      <td>False</td>\n",
              "      <td>False</td>\n",
              "      <td>False</td>\n",
              "      <td>False</td>\n",
              "      <td>False</td>\n",
              "      <td>False</td>\n",
              "      <td>False</td>\n",
              "      <td>False</td>\n",
              "      <td>False</td>\n",
              "      <td>False</td>\n",
              "      <td>False</td>\n",
              "      <td>False</td>\n",
              "      <td>False</td>\n",
              "      <td>False</td>\n",
              "      <td>False</td>\n",
              "      <td>False</td>\n",
              "      <td>False</td>\n",
              "      <td>False</td>\n",
              "      <td>False</td>\n",
              "      <td>False</td>\n",
              "      <td>False</td>\n",
              "      <td>False</td>\n",
              "      <td>False</td>\n",
              "      <td>False</td>\n",
              "      <td>...</td>\n",
              "      <td>False</td>\n",
              "      <td>False</td>\n",
              "      <td>False</td>\n",
              "      <td>True</td>\n",
              "      <td>False</td>\n",
              "      <td>True</td>\n",
              "      <td>False</td>\n",
              "      <td>False</td>\n",
              "      <td>False</td>\n",
              "      <td>False</td>\n",
              "      <td>False</td>\n",
              "      <td>False</td>\n",
              "      <td>False</td>\n",
              "      <td>False</td>\n",
              "      <td>False</td>\n",
              "      <td>False</td>\n",
              "      <td>False</td>\n",
              "      <td>False</td>\n",
              "      <td>False</td>\n",
              "      <td>False</td>\n",
              "      <td>False</td>\n",
              "      <td>False</td>\n",
              "      <td>False</td>\n",
              "      <td>False</td>\n",
              "      <td>False</td>\n",
              "      <td>False</td>\n",
              "      <td>False</td>\n",
              "      <td>False</td>\n",
              "      <td>False</td>\n",
              "      <td>False</td>\n",
              "      <td>False</td>\n",
              "      <td>False</td>\n",
              "      <td>False</td>\n",
              "      <td>False</td>\n",
              "      <td>False</td>\n",
              "      <td>False</td>\n",
              "      <td>False</td>\n",
              "      <td>True</td>\n",
              "      <td>True</td>\n",
              "      <td>False</td>\n",
              "    </tr>\n",
              "    <tr>\n",
              "      <th>1</th>\n",
              "      <td>False</td>\n",
              "      <td>False</td>\n",
              "      <td>False</td>\n",
              "      <td>False</td>\n",
              "      <td>False</td>\n",
              "      <td>False</td>\n",
              "      <td>False</td>\n",
              "      <td>False</td>\n",
              "      <td>False</td>\n",
              "      <td>False</td>\n",
              "      <td>False</td>\n",
              "      <td>False</td>\n",
              "      <td>False</td>\n",
              "      <td>False</td>\n",
              "      <td>False</td>\n",
              "      <td>False</td>\n",
              "      <td>False</td>\n",
              "      <td>False</td>\n",
              "      <td>False</td>\n",
              "      <td>False</td>\n",
              "      <td>False</td>\n",
              "      <td>False</td>\n",
              "      <td>False</td>\n",
              "      <td>False</td>\n",
              "      <td>False</td>\n",
              "      <td>False</td>\n",
              "      <td>False</td>\n",
              "      <td>False</td>\n",
              "      <td>False</td>\n",
              "      <td>False</td>\n",
              "      <td>False</td>\n",
              "      <td>False</td>\n",
              "      <td>False</td>\n",
              "      <td>False</td>\n",
              "      <td>False</td>\n",
              "      <td>False</td>\n",
              "      <td>False</td>\n",
              "      <td>False</td>\n",
              "      <td>False</td>\n",
              "      <td>False</td>\n",
              "      <td>...</td>\n",
              "      <td>False</td>\n",
              "      <td>True</td>\n",
              "      <td>False</td>\n",
              "      <td>False</td>\n",
              "      <td>False</td>\n",
              "      <td>False</td>\n",
              "      <td>False</td>\n",
              "      <td>False</td>\n",
              "      <td>False</td>\n",
              "      <td>False</td>\n",
              "      <td>False</td>\n",
              "      <td>False</td>\n",
              "      <td>False</td>\n",
              "      <td>False</td>\n",
              "      <td>False</td>\n",
              "      <td>False</td>\n",
              "      <td>False</td>\n",
              "      <td>False</td>\n",
              "      <td>False</td>\n",
              "      <td>False</td>\n",
              "      <td>False</td>\n",
              "      <td>False</td>\n",
              "      <td>False</td>\n",
              "      <td>False</td>\n",
              "      <td>False</td>\n",
              "      <td>False</td>\n",
              "      <td>False</td>\n",
              "      <td>False</td>\n",
              "      <td>False</td>\n",
              "      <td>False</td>\n",
              "      <td>False</td>\n",
              "      <td>False</td>\n",
              "      <td>False</td>\n",
              "      <td>False</td>\n",
              "      <td>False</td>\n",
              "      <td>False</td>\n",
              "      <td>False</td>\n",
              "      <td>True</td>\n",
              "      <td>False</td>\n",
              "      <td>False</td>\n",
              "    </tr>\n",
              "    <tr>\n",
              "      <th>2</th>\n",
              "      <td>False</td>\n",
              "      <td>False</td>\n",
              "      <td>False</td>\n",
              "      <td>False</td>\n",
              "      <td>False</td>\n",
              "      <td>False</td>\n",
              "      <td>False</td>\n",
              "      <td>False</td>\n",
              "      <td>False</td>\n",
              "      <td>False</td>\n",
              "      <td>False</td>\n",
              "      <td>False</td>\n",
              "      <td>False</td>\n",
              "      <td>False</td>\n",
              "      <td>False</td>\n",
              "      <td>False</td>\n",
              "      <td>False</td>\n",
              "      <td>False</td>\n",
              "      <td>False</td>\n",
              "      <td>False</td>\n",
              "      <td>True</td>\n",
              "      <td>False</td>\n",
              "      <td>False</td>\n",
              "      <td>False</td>\n",
              "      <td>False</td>\n",
              "      <td>False</td>\n",
              "      <td>False</td>\n",
              "      <td>False</td>\n",
              "      <td>False</td>\n",
              "      <td>False</td>\n",
              "      <td>False</td>\n",
              "      <td>False</td>\n",
              "      <td>False</td>\n",
              "      <td>False</td>\n",
              "      <td>False</td>\n",
              "      <td>False</td>\n",
              "      <td>False</td>\n",
              "      <td>False</td>\n",
              "      <td>False</td>\n",
              "      <td>False</td>\n",
              "      <td>...</td>\n",
              "      <td>False</td>\n",
              "      <td>False</td>\n",
              "      <td>False</td>\n",
              "      <td>False</td>\n",
              "      <td>False</td>\n",
              "      <td>False</td>\n",
              "      <td>False</td>\n",
              "      <td>False</td>\n",
              "      <td>False</td>\n",
              "      <td>False</td>\n",
              "      <td>False</td>\n",
              "      <td>False</td>\n",
              "      <td>False</td>\n",
              "      <td>False</td>\n",
              "      <td>False</td>\n",
              "      <td>False</td>\n",
              "      <td>False</td>\n",
              "      <td>False</td>\n",
              "      <td>False</td>\n",
              "      <td>False</td>\n",
              "      <td>False</td>\n",
              "      <td>False</td>\n",
              "      <td>False</td>\n",
              "      <td>False</td>\n",
              "      <td>False</td>\n",
              "      <td>False</td>\n",
              "      <td>False</td>\n",
              "      <td>False</td>\n",
              "      <td>False</td>\n",
              "      <td>False</td>\n",
              "      <td>False</td>\n",
              "      <td>False</td>\n",
              "      <td>False</td>\n",
              "      <td>False</td>\n",
              "      <td>False</td>\n",
              "      <td>False</td>\n",
              "      <td>False</td>\n",
              "      <td>False</td>\n",
              "      <td>False</td>\n",
              "      <td>False</td>\n",
              "    </tr>\n",
              "    <tr>\n",
              "      <th>3</th>\n",
              "      <td>False</td>\n",
              "      <td>False</td>\n",
              "      <td>False</td>\n",
              "      <td>False</td>\n",
              "      <td>False</td>\n",
              "      <td>False</td>\n",
              "      <td>False</td>\n",
              "      <td>False</td>\n",
              "      <td>False</td>\n",
              "      <td>False</td>\n",
              "      <td>False</td>\n",
              "      <td>False</td>\n",
              "      <td>False</td>\n",
              "      <td>False</td>\n",
              "      <td>False</td>\n",
              "      <td>False</td>\n",
              "      <td>False</td>\n",
              "      <td>False</td>\n",
              "      <td>False</td>\n",
              "      <td>False</td>\n",
              "      <td>False</td>\n",
              "      <td>False</td>\n",
              "      <td>False</td>\n",
              "      <td>False</td>\n",
              "      <td>False</td>\n",
              "      <td>False</td>\n",
              "      <td>False</td>\n",
              "      <td>False</td>\n",
              "      <td>False</td>\n",
              "      <td>False</td>\n",
              "      <td>False</td>\n",
              "      <td>False</td>\n",
              "      <td>False</td>\n",
              "      <td>False</td>\n",
              "      <td>False</td>\n",
              "      <td>False</td>\n",
              "      <td>False</td>\n",
              "      <td>False</td>\n",
              "      <td>False</td>\n",
              "      <td>False</td>\n",
              "      <td>...</td>\n",
              "      <td>False</td>\n",
              "      <td>False</td>\n",
              "      <td>False</td>\n",
              "      <td>True</td>\n",
              "      <td>False</td>\n",
              "      <td>False</td>\n",
              "      <td>False</td>\n",
              "      <td>False</td>\n",
              "      <td>False</td>\n",
              "      <td>False</td>\n",
              "      <td>False</td>\n",
              "      <td>False</td>\n",
              "      <td>False</td>\n",
              "      <td>False</td>\n",
              "      <td>False</td>\n",
              "      <td>False</td>\n",
              "      <td>False</td>\n",
              "      <td>False</td>\n",
              "      <td>False</td>\n",
              "      <td>False</td>\n",
              "      <td>False</td>\n",
              "      <td>False</td>\n",
              "      <td>False</td>\n",
              "      <td>False</td>\n",
              "      <td>False</td>\n",
              "      <td>False</td>\n",
              "      <td>False</td>\n",
              "      <td>False</td>\n",
              "      <td>False</td>\n",
              "      <td>False</td>\n",
              "      <td>False</td>\n",
              "      <td>False</td>\n",
              "      <td>False</td>\n",
              "      <td>False</td>\n",
              "      <td>False</td>\n",
              "      <td>False</td>\n",
              "      <td>False</td>\n",
              "      <td>False</td>\n",
              "      <td>False</td>\n",
              "      <td>False</td>\n",
              "    </tr>\n",
              "    <tr>\n",
              "      <th>4</th>\n",
              "      <td>False</td>\n",
              "      <td>False</td>\n",
              "      <td>False</td>\n",
              "      <td>False</td>\n",
              "      <td>False</td>\n",
              "      <td>False</td>\n",
              "      <td>False</td>\n",
              "      <td>False</td>\n",
              "      <td>False</td>\n",
              "      <td>False</td>\n",
              "      <td>False</td>\n",
              "      <td>False</td>\n",
              "      <td>False</td>\n",
              "      <td>False</td>\n",
              "      <td>False</td>\n",
              "      <td>False</td>\n",
              "      <td>False</td>\n",
              "      <td>False</td>\n",
              "      <td>False</td>\n",
              "      <td>False</td>\n",
              "      <td>False</td>\n",
              "      <td>False</td>\n",
              "      <td>False</td>\n",
              "      <td>False</td>\n",
              "      <td>False</td>\n",
              "      <td>False</td>\n",
              "      <td>False</td>\n",
              "      <td>False</td>\n",
              "      <td>False</td>\n",
              "      <td>False</td>\n",
              "      <td>False</td>\n",
              "      <td>False</td>\n",
              "      <td>False</td>\n",
              "      <td>False</td>\n",
              "      <td>False</td>\n",
              "      <td>False</td>\n",
              "      <td>False</td>\n",
              "      <td>False</td>\n",
              "      <td>False</td>\n",
              "      <td>False</td>\n",
              "      <td>...</td>\n",
              "      <td>False</td>\n",
              "      <td>False</td>\n",
              "      <td>False</td>\n",
              "      <td>False</td>\n",
              "      <td>False</td>\n",
              "      <td>False</td>\n",
              "      <td>False</td>\n",
              "      <td>False</td>\n",
              "      <td>False</td>\n",
              "      <td>False</td>\n",
              "      <td>False</td>\n",
              "      <td>True</td>\n",
              "      <td>False</td>\n",
              "      <td>False</td>\n",
              "      <td>False</td>\n",
              "      <td>False</td>\n",
              "      <td>False</td>\n",
              "      <td>False</td>\n",
              "      <td>False</td>\n",
              "      <td>False</td>\n",
              "      <td>False</td>\n",
              "      <td>False</td>\n",
              "      <td>False</td>\n",
              "      <td>False</td>\n",
              "      <td>False</td>\n",
              "      <td>False</td>\n",
              "      <td>False</td>\n",
              "      <td>False</td>\n",
              "      <td>False</td>\n",
              "      <td>False</td>\n",
              "      <td>False</td>\n",
              "      <td>False</td>\n",
              "      <td>False</td>\n",
              "      <td>False</td>\n",
              "      <td>False</td>\n",
              "      <td>False</td>\n",
              "      <td>False</td>\n",
              "      <td>False</td>\n",
              "      <td>False</td>\n",
              "      <td>False</td>\n",
              "    </tr>\n",
              "  </tbody>\n",
              "</table>\n",
              "<p>5 rows × 167 columns</p>\n",
              "</div>"
            ],
            "text/plain": [
              "   Instant food products  UHT-milk  ...  yogurt  zwieback\n",
              "0                  False     False  ...    True     False\n",
              "1                  False     False  ...   False     False\n",
              "2                  False     False  ...   False     False\n",
              "3                  False     False  ...   False     False\n",
              "4                  False     False  ...   False     False\n",
              "\n",
              "[5 rows x 167 columns]"
            ]
          },
          "metadata": {},
          "execution_count": 40
        }
      ]
    },
    {
      "cell_type": "code",
      "source": [
        "def perform_rule_calculation(transact_items_matrix, rule_type=\"fpgrowth\", min_support=0.001):\n",
        "    start_time = 0\n",
        "    total_execution = 0\n",
        "    \n",
        "    if(not rule_type==\"fpgrowth\"):\n",
        "        start_time = time.time()\n",
        "        rule_items = apriori(transact_items_matrix, \n",
        "                       min_support=min_support, \n",
        "                       use_colnames=True)\n",
        "        total_execution = time.time() - start_time\n",
        "        print(\"Computed Apriori!\")\n",
        "        \n",
        "    else:\n",
        "        start_time = time.time()\n",
        "        rule_items = fpgrowth(transact_items_matrix, \n",
        "                       min_support=min_support, \n",
        "                       use_colnames=True)\n",
        "        total_execution = time.time() - start_time\n",
        "        print(\"Computed Fp Growth!\")\n",
        "    \n",
        "    rule_items['number_of_items'] = rule_items['itemsets'].apply(lambda x: len(x))\n",
        "    \n",
        "    return rule_items, total_execution"
      ],
      "metadata": {
        "id": "ugLYbAZHsr6N"
      },
      "execution_count": null,
      "outputs": []
    },
    {
      "cell_type": "code",
      "source": [
        "def compute_association_rule(rule_matrix, metric=\"lift\", min_thresh=1):\n",
        "    rules = association_rules(rule_matrix, \n",
        "                              metric=metric, \n",
        "                              min_threshold=min_thresh)\n",
        "    \n",
        "    return rules"
      ],
      "metadata": {
        "id": "f6F7ETPAtXeq"
      },
      "execution_count": null,
      "outputs": []
    },
    {
      "cell_type": "code",
      "source": [
        "# Plot Lift Vs Coverage(confidence) \n",
        "def plot_metrics_relationship(rule_matrix, col1, col2):\n",
        "    fit = np.polyfit(rule_matrix[col1], rule_matrix[col2], 1)\n",
        "    fit_funt = np.poly1d(fit)\n",
        "    plt.plot(rule_matrix[col1], rule_matrix[col2], 'yo', rule_matrix[col1], \n",
        "    fit_funt(rule_matrix[col1]))\n",
        "    plt.xlabel(col1)\n",
        "    plt.ylabel(col2)\n",
        "    plt.title('{} vs {}'.format(col1, col2))"
      ],
      "metadata": {
        "id": "Z3dSgvgRtXh5"
      },
      "execution_count": null,
      "outputs": []
    },
    {
      "cell_type": "code",
      "source": [
        "def compare_time_exec(algo1=list, alg2=list):\n",
        "    \n",
        "    execution_times = [algo1[1], algo2[1]]\n",
        "    algo_names = (algo1[0], algo2[0])\n",
        "    y=np.arange(len(algo_names))\n",
        "    \n",
        "    plt.bar(y,execution_times,color=['yellow', 'blue'])\n",
        "    plt.xticks(y,algo_names)\n",
        "    plt.xlabel('Algorithms')\n",
        "    plt.ylabel('Time')\n",
        "    plt.title(\"Execution Time (seconds) Comparison\")\n",
        "    plt.show()"
      ],
      "metadata": {
        "id": "tjBr1Yu2tXkU"
      },
      "execution_count": null,
      "outputs": []
    },
    {
      "cell_type": "code",
      "source": [
        "val = {'name':12}\n",
        "value = list(val.items())[0]"
      ],
      "metadata": {
        "id": "aLWcaZantXqE"
      },
      "execution_count": null,
      "outputs": []
    },
    {
      "cell_type": "code",
      "source": [
        "value"
      ],
      "metadata": {
        "colab": {
          "base_uri": "https://localhost:8080/"
        },
        "id": "Us-bezbrtXq9",
        "outputId": "064ea12d-066b-4b4d-ef0f-ba710b7edaf1"
      },
      "execution_count": null,
      "outputs": [
        {
          "output_type": "execute_result",
          "data": {
            "text/plain": [
              "('name', 12)"
            ]
          },
          "metadata": {},
          "execution_count": 47
        }
      ]
    },
    {
      "cell_type": "markdown",
      "source": [
        "#Fp Growph Algorithm"
      ],
      "metadata": {
        "id": "A8tGT8Aqtnuf"
      }
    },
    {
      "cell_type": "code",
      "source": [
        "fpgrowth_matrix, fp_growth_exec_time = perform_rule_calculation(trans_encoder_matrix) # Run the algorithm\n",
        "print(\"Fp Growth execution took: {} seconds\".format(fp_growth_exec_time))"
      ],
      "metadata": {
        "colab": {
          "base_uri": "https://localhost:8080/"
        },
        "id": "uhXzPzldtXtI",
        "outputId": "fad4004c-b1f3-4654-c3d7-68bfa86a552a"
      },
      "execution_count": null,
      "outputs": [
        {
          "output_type": "stream",
          "name": "stdout",
          "text": [
            "Computed Fp Growth!\n",
            "Fp Growth execution took: 0.33831167221069336 seconds\n"
          ]
        }
      ]
    },
    {
      "cell_type": "code",
      "source": [
        "fpgrowth_matrix.head()"
      ],
      "metadata": {
        "colab": {
          "base_uri": "https://localhost:8080/",
          "height": 206
        },
        "id": "RjFS8rGbtXuQ",
        "outputId": "086ae536-26d1-4a44-8622-65c48f08a14a"
      },
      "execution_count": null,
      "outputs": [
        {
          "output_type": "execute_result",
          "data": {
            "text/html": [
              "<div>\n",
              "<style scoped>\n",
              "    .dataframe tbody tr th:only-of-type {\n",
              "        vertical-align: middle;\n",
              "    }\n",
              "\n",
              "    .dataframe tbody tr th {\n",
              "        vertical-align: top;\n",
              "    }\n",
              "\n",
              "    .dataframe thead th {\n",
              "        text-align: right;\n",
              "    }\n",
              "</style>\n",
              "<table border=\"1\" class=\"dataframe\">\n",
              "  <thead>\n",
              "    <tr style=\"text-align: right;\">\n",
              "      <th></th>\n",
              "      <th>support</th>\n",
              "      <th>itemsets</th>\n",
              "      <th>number_of_items</th>\n",
              "    </tr>\n",
              "  </thead>\n",
              "  <tbody>\n",
              "    <tr>\n",
              "      <th>0</th>\n",
              "      <td>0.157923</td>\n",
              "      <td>(whole milk)</td>\n",
              "      <td>1</td>\n",
              "    </tr>\n",
              "    <tr>\n",
              "      <th>1</th>\n",
              "      <td>0.085879</td>\n",
              "      <td>(yogurt)</td>\n",
              "      <td>1</td>\n",
              "    </tr>\n",
              "    <tr>\n",
              "      <th>2</th>\n",
              "      <td>0.060349</td>\n",
              "      <td>(sausage)</td>\n",
              "      <td>1</td>\n",
              "    </tr>\n",
              "    <tr>\n",
              "      <th>3</th>\n",
              "      <td>0.009490</td>\n",
              "      <td>(semi-finished bread)</td>\n",
              "      <td>1</td>\n",
              "    </tr>\n",
              "    <tr>\n",
              "      <th>4</th>\n",
              "      <td>0.051728</td>\n",
              "      <td>(pastry)</td>\n",
              "      <td>1</td>\n",
              "    </tr>\n",
              "  </tbody>\n",
              "</table>\n",
              "</div>"
            ],
            "text/plain": [
              "    support               itemsets  number_of_items\n",
              "0  0.157923           (whole milk)                1\n",
              "1  0.085879               (yogurt)                1\n",
              "2  0.060349              (sausage)                1\n",
              "3  0.009490  (semi-finished bread)                1\n",
              "4  0.051728               (pastry)                1"
            ]
          },
          "metadata": {},
          "execution_count": 49
        }
      ]
    },
    {
      "cell_type": "code",
      "source": [
        "fpgrowth_matrix.tail()"
      ],
      "metadata": {
        "colab": {
          "base_uri": "https://localhost:8080/",
          "height": 206
        },
        "id": "u_KNe8z1ssH7",
        "outputId": "baf8cc49-bfaf-47ee-f7b5-cb4bb6e5eefa"
      },
      "execution_count": null,
      "outputs": [
        {
          "output_type": "execute_result",
          "data": {
            "text/html": [
              "<div>\n",
              "<style scoped>\n",
              "    .dataframe tbody tr th:only-of-type {\n",
              "        vertical-align: middle;\n",
              "    }\n",
              "\n",
              "    .dataframe tbody tr th {\n",
              "        vertical-align: top;\n",
              "    }\n",
              "\n",
              "    .dataframe thead th {\n",
              "        text-align: right;\n",
              "    }\n",
              "</style>\n",
              "<table border=\"1\" class=\"dataframe\">\n",
              "  <thead>\n",
              "    <tr style=\"text-align: right;\">\n",
              "      <th></th>\n",
              "      <th>support</th>\n",
              "      <th>itemsets</th>\n",
              "      <th>number_of_items</th>\n",
              "    </tr>\n",
              "  </thead>\n",
              "  <tbody>\n",
              "    <tr>\n",
              "      <th>745</th>\n",
              "      <td>0.001403</td>\n",
              "      <td>(chewing gum, yogurt)</td>\n",
              "      <td>2</td>\n",
              "    </tr>\n",
              "    <tr>\n",
              "      <th>746</th>\n",
              "      <td>0.001069</td>\n",
              "      <td>(chewing gum, other vegetables)</td>\n",
              "      <td>2</td>\n",
              "    </tr>\n",
              "    <tr>\n",
              "      <th>747</th>\n",
              "      <td>0.001002</td>\n",
              "      <td>(chewing gum, soda)</td>\n",
              "      <td>2</td>\n",
              "    </tr>\n",
              "    <tr>\n",
              "      <th>748</th>\n",
              "      <td>0.001069</td>\n",
              "      <td>(whole milk, pasta)</td>\n",
              "      <td>2</td>\n",
              "    </tr>\n",
              "    <tr>\n",
              "      <th>749</th>\n",
              "      <td>0.001002</td>\n",
              "      <td>(rolls/buns, seasonal products)</td>\n",
              "      <td>2</td>\n",
              "    </tr>\n",
              "  </tbody>\n",
              "</table>\n",
              "</div>"
            ],
            "text/plain": [
              "      support                         itemsets  number_of_items\n",
              "745  0.001403            (chewing gum, yogurt)                2\n",
              "746  0.001069  (chewing gum, other vegetables)                2\n",
              "747  0.001002              (chewing gum, soda)                2\n",
              "748  0.001069              (whole milk, pasta)                2\n",
              "749  0.001002  (rolls/buns, seasonal products)                2"
            ]
          },
          "metadata": {},
          "execution_count": 50
        }
      ]
    },
    {
      "cell_type": "code",
      "source": [
        "fp_growth_rule_lift = compute_association_rule(fpgrowth_matrix)"
      ],
      "metadata": {
        "id": "a7I9k0Urty5g"
      },
      "execution_count": null,
      "outputs": []
    },
    {
      "cell_type": "code",
      "source": [
        "fp_growth_rule_lift.head()"
      ],
      "metadata": {
        "colab": {
          "base_uri": "https://localhost:8080/",
          "height": 206
        },
        "id": "jUVfIgT_ty9W",
        "outputId": "927501bf-17a8-4207-9ad2-37e9622733f1"
      },
      "execution_count": null,
      "outputs": [
        {
          "output_type": "execute_result",
          "data": {
            "text/html": [
              "<div>\n",
              "<style scoped>\n",
              "    .dataframe tbody tr th:only-of-type {\n",
              "        vertical-align: middle;\n",
              "    }\n",
              "\n",
              "    .dataframe tbody tr th {\n",
              "        vertical-align: top;\n",
              "    }\n",
              "\n",
              "    .dataframe thead th {\n",
              "        text-align: right;\n",
              "    }\n",
              "</style>\n",
              "<table border=\"1\" class=\"dataframe\">\n",
              "  <thead>\n",
              "    <tr style=\"text-align: right;\">\n",
              "      <th></th>\n",
              "      <th>antecedents</th>\n",
              "      <th>consequents</th>\n",
              "      <th>antecedent support</th>\n",
              "      <th>consequent support</th>\n",
              "      <th>support</th>\n",
              "      <th>confidence</th>\n",
              "      <th>lift</th>\n",
              "      <th>leverage</th>\n",
              "      <th>conviction</th>\n",
              "    </tr>\n",
              "  </thead>\n",
              "  <tbody>\n",
              "    <tr>\n",
              "      <th>0</th>\n",
              "      <td>(whole milk, rolls/buns)</td>\n",
              "      <td>(yogurt)</td>\n",
              "      <td>0.013968</td>\n",
              "      <td>0.085879</td>\n",
              "      <td>0.001337</td>\n",
              "      <td>0.095694</td>\n",
              "      <td>1.114293</td>\n",
              "      <td>0.000137</td>\n",
              "      <td>1.010854</td>\n",
              "    </tr>\n",
              "    <tr>\n",
              "      <th>1</th>\n",
              "      <td>(whole milk, yogurt)</td>\n",
              "      <td>(rolls/buns)</td>\n",
              "      <td>0.011161</td>\n",
              "      <td>0.110005</td>\n",
              "      <td>0.001337</td>\n",
              "      <td>0.119760</td>\n",
              "      <td>1.088685</td>\n",
              "      <td>0.000109</td>\n",
              "      <td>1.011083</td>\n",
              "    </tr>\n",
              "    <tr>\n",
              "      <th>2</th>\n",
              "      <td>(rolls/buns, yogurt)</td>\n",
              "      <td>(whole milk)</td>\n",
              "      <td>0.007819</td>\n",
              "      <td>0.157923</td>\n",
              "      <td>0.001337</td>\n",
              "      <td>0.170940</td>\n",
              "      <td>1.082428</td>\n",
              "      <td>0.000102</td>\n",
              "      <td>1.015701</td>\n",
              "    </tr>\n",
              "    <tr>\n",
              "      <th>3</th>\n",
              "      <td>(whole milk)</td>\n",
              "      <td>(rolls/buns, yogurt)</td>\n",
              "      <td>0.157923</td>\n",
              "      <td>0.007819</td>\n",
              "      <td>0.001337</td>\n",
              "      <td>0.008464</td>\n",
              "      <td>1.082428</td>\n",
              "      <td>0.000102</td>\n",
              "      <td>1.000650</td>\n",
              "    </tr>\n",
              "    <tr>\n",
              "      <th>4</th>\n",
              "      <td>(rolls/buns)</td>\n",
              "      <td>(whole milk, yogurt)</td>\n",
              "      <td>0.110005</td>\n",
              "      <td>0.011161</td>\n",
              "      <td>0.001337</td>\n",
              "      <td>0.012151</td>\n",
              "      <td>1.088685</td>\n",
              "      <td>0.000109</td>\n",
              "      <td>1.001002</td>\n",
              "    </tr>\n",
              "  </tbody>\n",
              "</table>\n",
              "</div>"
            ],
            "text/plain": [
              "                antecedents           consequents  ...  leverage  conviction\n",
              "0  (whole milk, rolls/buns)              (yogurt)  ...  0.000137    1.010854\n",
              "1      (whole milk, yogurt)          (rolls/buns)  ...  0.000109    1.011083\n",
              "2      (rolls/buns, yogurt)          (whole milk)  ...  0.000102    1.015701\n",
              "3              (whole milk)  (rolls/buns, yogurt)  ...  0.000102    1.000650\n",
              "4              (rolls/buns)  (whole milk, yogurt)  ...  0.000109    1.001002\n",
              "\n",
              "[5 rows x 9 columns]"
            ]
          },
          "metadata": {},
          "execution_count": 52
        }
      ]
    },
    {
      "cell_type": "code",
      "source": [
        "plot_metrics_relationship(fp_growth_rule_lift, col1='lift', col2='confidence')"
      ],
      "metadata": {
        "colab": {
          "base_uri": "https://localhost:8080/",
          "height": 295
        },
        "id": "uCV3H_YftzAm",
        "outputId": "69c0e6cf-a8b2-44de-bc09-13fa7e48e4da"
      },
      "execution_count": null,
      "outputs": [
        {
          "output_type": "display_data",
          "data": {
            "image/png": "[encoded data removed]",
            "text/plain": [
              "<Figure size 432x288 with 1 Axes>"
            ]
          },
          "metadata": {
            "needs_background": "light"
          }
        }
      ]
    },
    {
      "cell_type": "code",
      "source": [
        "#Confidence\n",
        "fp_growth_rule = compute_association_rule(fpgrowth_matrix, metric=\"confidence\", min_thresh=0.2)\n",
        "fp_growth_rule.head()"
      ],
      "metadata": {
        "colab": {
          "base_uri": "https://localhost:8080/",
          "height": 112
        },
        "id": "WHTrbgULtzCL",
        "outputId": "5cbe24a1-47a3-4e6e-8ca6-80907b3e592b"
      },
      "execution_count": null,
      "outputs": [
        {
          "output_type": "execute_result",
          "data": {
            "text/html": [
              "<div>\n",
              "<style scoped>\n",
              "    .dataframe tbody tr th:only-of-type {\n",
              "        vertical-align: middle;\n",
              "    }\n",
              "\n",
              "    .dataframe tbody tr th {\n",
              "        vertical-align: top;\n",
              "    }\n",
              "\n",
              "    .dataframe thead th {\n",
              "        text-align: right;\n",
              "    }\n",
              "</style>\n",
              "<table border=\"1\" class=\"dataframe\">\n",
              "  <thead>\n",
              "    <tr style=\"text-align: right;\">\n",
              "      <th></th>\n",
              "      <th>antecedents</th>\n",
              "      <th>consequents</th>\n",
              "      <th>antecedent support</th>\n",
              "      <th>consequent support</th>\n",
              "      <th>support</th>\n",
              "      <th>confidence</th>\n",
              "      <th>lift</th>\n",
              "      <th>leverage</th>\n",
              "      <th>conviction</th>\n",
              "    </tr>\n",
              "  </thead>\n",
              "  <tbody>\n",
              "    <tr>\n",
              "      <th>0</th>\n",
              "      <td>(yogurt, sausage)</td>\n",
              "      <td>(whole milk)</td>\n",
              "      <td>0.005748</td>\n",
              "      <td>0.157923</td>\n",
              "      <td>0.001470</td>\n",
              "      <td>0.255814</td>\n",
              "      <td>1.619866</td>\n",
              "      <td>0.000563</td>\n",
              "      <td>1.131541</td>\n",
              "    </tr>\n",
              "    <tr>\n",
              "      <th>1</th>\n",
              "      <td>(rolls/buns, sausage)</td>\n",
              "      <td>(whole milk)</td>\n",
              "      <td>0.005347</td>\n",
              "      <td>0.157923</td>\n",
              "      <td>0.001136</td>\n",
              "      <td>0.212500</td>\n",
              "      <td>1.345594</td>\n",
              "      <td>0.000292</td>\n",
              "      <td>1.069304</td>\n",
              "    </tr>\n",
              "  </tbody>\n",
              "</table>\n",
              "</div>"
            ],
            "text/plain": [
              "             antecedents   consequents  ...  leverage  conviction\n",
              "0      (yogurt, sausage)  (whole milk)  ...  0.000563    1.131541\n",
              "1  (rolls/buns, sausage)  (whole milk)  ...  0.000292    1.069304\n",
              "\n",
              "[2 rows x 9 columns]"
            ]
          },
          "metadata": {},
          "execution_count": 54
        }
      ]
    },
    {
      "cell_type": "markdown",
      "source": [
        "#Apriori Algorithm"
      ],
      "metadata": {
        "id": "NSttO_9kuFeA"
      }
    },
    {
      "cell_type": "code",
      "source": [
        "apriori_matrix, apriori_exec_time = perform_rule_calculation(trans_encoder_matrix, rule_type=\"apriori\")\n",
        "print(\"Apriori Execution took: {} seconds\".format(apriori_exec_time))"
      ],
      "metadata": {
        "colab": {
          "base_uri": "https://localhost:8080/"
        },
        "id": "H2Yed_2wtzGx",
        "outputId": "97f06c83-2c5a-4dc0-bd29-e1c7543cb6da"
      },
      "execution_count": null,
      "outputs": [
        {
          "output_type": "stream",
          "name": "stdout",
          "text": [
            "Computed Apriori!\n",
            "Apriori Execution took: 2.9502055644989014 seconds\n"
          ]
        }
      ]
    },
    {
      "cell_type": "code",
      "source": [
        "apriori_matrix.head()"
      ],
      "metadata": {
        "colab": {
          "base_uri": "https://localhost:8080/",
          "height": 206
        },
        "id": "hKTQBkGgtzMd",
        "outputId": "8325d825-a397-45fd-a8a6-d565a6b342e9"
      },
      "execution_count": null,
      "outputs": [
        {
          "output_type": "execute_result",
          "data": {
            "text/html": [
              "<div>\n",
              "<style scoped>\n",
              "    .dataframe tbody tr th:only-of-type {\n",
              "        vertical-align: middle;\n",
              "    }\n",
              "\n",
              "    .dataframe tbody tr th {\n",
              "        vertical-align: top;\n",
              "    }\n",
              "\n",
              "    .dataframe thead th {\n",
              "        text-align: right;\n",
              "    }\n",
              "</style>\n",
              "<table border=\"1\" class=\"dataframe\">\n",
              "  <thead>\n",
              "    <tr style=\"text-align: right;\">\n",
              "      <th></th>\n",
              "      <th>support</th>\n",
              "      <th>itemsets</th>\n",
              "      <th>number_of_items</th>\n",
              "    </tr>\n",
              "  </thead>\n",
              "  <tbody>\n",
              "    <tr>\n",
              "      <th>0</th>\n",
              "      <td>0.004010</td>\n",
              "      <td>(Instant food products)</td>\n",
              "      <td>1</td>\n",
              "    </tr>\n",
              "    <tr>\n",
              "      <th>1</th>\n",
              "      <td>0.021386</td>\n",
              "      <td>(UHT-milk)</td>\n",
              "      <td>1</td>\n",
              "    </tr>\n",
              "    <tr>\n",
              "      <th>2</th>\n",
              "      <td>0.001470</td>\n",
              "      <td>(abrasive cleaner)</td>\n",
              "      <td>1</td>\n",
              "    </tr>\n",
              "    <tr>\n",
              "      <th>3</th>\n",
              "      <td>0.001938</td>\n",
              "      <td>(artif. sweetener)</td>\n",
              "      <td>1</td>\n",
              "    </tr>\n",
              "    <tr>\n",
              "      <th>4</th>\n",
              "      <td>0.008087</td>\n",
              "      <td>(baking powder)</td>\n",
              "      <td>1</td>\n",
              "    </tr>\n",
              "  </tbody>\n",
              "</table>\n",
              "</div>"
            ],
            "text/plain": [
              "    support                 itemsets  number_of_items\n",
              "0  0.004010  (Instant food products)                1\n",
              "1  0.021386               (UHT-milk)                1\n",
              "2  0.001470       (abrasive cleaner)                1\n",
              "3  0.001938       (artif. sweetener)                1\n",
              "4  0.008087          (baking powder)                1"
            ]
          },
          "metadata": {},
          "execution_count": 56
        }
      ]
    },
    {
      "cell_type": "code",
      "source": [
        "apriori_matrix.tail()"
      ],
      "metadata": {
        "colab": {
          "base_uri": "https://localhost:8080/",
          "height": 206
        },
        "id": "dwAHXMa8uMVf",
        "outputId": "08a79d3b-1089-43a1-960d-8d6f786eee80"
      },
      "execution_count": null,
      "outputs": [
        {
          "output_type": "execute_result",
          "data": {
            "text/html": [
              "<div>\n",
              "<style scoped>\n",
              "    .dataframe tbody tr th:only-of-type {\n",
              "        vertical-align: middle;\n",
              "    }\n",
              "\n",
              "    .dataframe tbody tr th {\n",
              "        vertical-align: top;\n",
              "    }\n",
              "\n",
              "    .dataframe thead th {\n",
              "        text-align: right;\n",
              "    }\n",
              "</style>\n",
              "<table border=\"1\" class=\"dataframe\">\n",
              "  <thead>\n",
              "    <tr style=\"text-align: right;\">\n",
              "      <th></th>\n",
              "      <th>support</th>\n",
              "      <th>itemsets</th>\n",
              "      <th>number_of_items</th>\n",
              "    </tr>\n",
              "  </thead>\n",
              "  <tbody>\n",
              "    <tr>\n",
              "      <th>745</th>\n",
              "      <td>0.001136</td>\n",
              "      <td>(whole milk, rolls/buns, sausage)</td>\n",
              "      <td>3</td>\n",
              "    </tr>\n",
              "    <tr>\n",
              "      <th>746</th>\n",
              "      <td>0.001002</td>\n",
              "      <td>(whole milk, rolls/buns, soda)</td>\n",
              "      <td>3</td>\n",
              "    </tr>\n",
              "    <tr>\n",
              "      <th>747</th>\n",
              "      <td>0.001337</td>\n",
              "      <td>(whole milk, rolls/buns, yogurt)</td>\n",
              "      <td>3</td>\n",
              "    </tr>\n",
              "    <tr>\n",
              "      <th>748</th>\n",
              "      <td>0.001069</td>\n",
              "      <td>(whole milk, soda, sausage)</td>\n",
              "      <td>3</td>\n",
              "    </tr>\n",
              "    <tr>\n",
              "      <th>749</th>\n",
              "      <td>0.001470</td>\n",
              "      <td>(whole milk, yogurt, sausage)</td>\n",
              "      <td>3</td>\n",
              "    </tr>\n",
              "  </tbody>\n",
              "</table>\n",
              "</div>"
            ],
            "text/plain": [
              "      support                           itemsets  number_of_items\n",
              "745  0.001136  (whole milk, rolls/buns, sausage)                3\n",
              "746  0.001002     (whole milk, rolls/buns, soda)                3\n",
              "747  0.001337   (whole milk, rolls/buns, yogurt)                3\n",
              "748  0.001069        (whole milk, soda, sausage)                3\n",
              "749  0.001470      (whole milk, yogurt, sausage)                3"
            ]
          },
          "metadata": {},
          "execution_count": 57
        }
      ]
    },
    {
      "cell_type": "code",
      "source": [
        "apriori_rule_lift = compute_association_rule(apriori_matrix)"
      ],
      "metadata": {
        "id": "d2jLFAWQuMYw"
      },
      "execution_count": null,
      "outputs": []
    },
    {
      "cell_type": "code",
      "source": [
        "apriori_rule_lift.head()"
      ],
      "metadata": {
        "colab": {
          "base_uri": "https://localhost:8080/",
          "height": 206
        },
        "id": "zUkaeoanuMcE",
        "outputId": "4d4ebb9c-877c-4441-9b78-139dc3eff08b"
      },
      "execution_count": null,
      "outputs": [
        {
          "output_type": "execute_result",
          "data": {
            "text/html": [
              "<div>\n",
              "<style scoped>\n",
              "    .dataframe tbody tr th:only-of-type {\n",
              "        vertical-align: middle;\n",
              "    }\n",
              "\n",
              "    .dataframe tbody tr th {\n",
              "        vertical-align: top;\n",
              "    }\n",
              "\n",
              "    .dataframe thead th {\n",
              "        text-align: right;\n",
              "    }\n",
              "</style>\n",
              "<table border=\"1\" class=\"dataframe\">\n",
              "  <thead>\n",
              "    <tr style=\"text-align: right;\">\n",
              "      <th></th>\n",
              "      <th>antecedents</th>\n",
              "      <th>consequents</th>\n",
              "      <th>antecedent support</th>\n",
              "      <th>consequent support</th>\n",
              "      <th>support</th>\n",
              "      <th>confidence</th>\n",
              "      <th>lift</th>\n",
              "      <th>leverage</th>\n",
              "      <th>conviction</th>\n",
              "    </tr>\n",
              "  </thead>\n",
              "  <tbody>\n",
              "    <tr>\n",
              "      <th>0</th>\n",
              "      <td>(UHT-milk)</td>\n",
              "      <td>(tropical fruit)</td>\n",
              "      <td>0.021386</td>\n",
              "      <td>0.067767</td>\n",
              "      <td>0.001537</td>\n",
              "      <td>0.071875</td>\n",
              "      <td>1.060617</td>\n",
              "      <td>8.785064e-05</td>\n",
              "      <td>1.004426</td>\n",
              "    </tr>\n",
              "    <tr>\n",
              "      <th>1</th>\n",
              "      <td>(tropical fruit)</td>\n",
              "      <td>(UHT-milk)</td>\n",
              "      <td>0.067767</td>\n",
              "      <td>0.021386</td>\n",
              "      <td>0.001537</td>\n",
              "      <td>0.022682</td>\n",
              "      <td>1.060617</td>\n",
              "      <td>8.785064e-05</td>\n",
              "      <td>1.001326</td>\n",
              "    </tr>\n",
              "    <tr>\n",
              "      <th>2</th>\n",
              "      <td>(beef)</td>\n",
              "      <td>(brown bread)</td>\n",
              "      <td>0.033950</td>\n",
              "      <td>0.037626</td>\n",
              "      <td>0.001537</td>\n",
              "      <td>0.045276</td>\n",
              "      <td>1.203301</td>\n",
              "      <td>2.597018e-04</td>\n",
              "      <td>1.008012</td>\n",
              "    </tr>\n",
              "    <tr>\n",
              "      <th>3</th>\n",
              "      <td>(brown bread)</td>\n",
              "      <td>(beef)</td>\n",
              "      <td>0.037626</td>\n",
              "      <td>0.033950</td>\n",
              "      <td>0.001537</td>\n",
              "      <td>0.040853</td>\n",
              "      <td>1.203301</td>\n",
              "      <td>2.597018e-04</td>\n",
              "      <td>1.007196</td>\n",
              "    </tr>\n",
              "    <tr>\n",
              "      <th>4</th>\n",
              "      <td>(beef)</td>\n",
              "      <td>(citrus fruit)</td>\n",
              "      <td>0.033950</td>\n",
              "      <td>0.053131</td>\n",
              "      <td>0.001804</td>\n",
              "      <td>0.053150</td>\n",
              "      <td>1.000349</td>\n",
              "      <td>6.297697e-07</td>\n",
              "      <td>1.000020</td>\n",
              "    </tr>\n",
              "  </tbody>\n",
              "</table>\n",
              "</div>"
            ],
            "text/plain": [
              "        antecedents       consequents  ...      leverage  conviction\n",
              "0        (UHT-milk)  (tropical fruit)  ...  8.785064e-05    1.004426\n",
              "1  (tropical fruit)        (UHT-milk)  ...  8.785064e-05    1.001326\n",
              "2            (beef)     (brown bread)  ...  2.597018e-04    1.008012\n",
              "3     (brown bread)            (beef)  ...  2.597018e-04    1.007196\n",
              "4            (beef)    (citrus fruit)  ...  6.297697e-07    1.000020\n",
              "\n",
              "[5 rows x 9 columns]"
            ]
          },
          "metadata": {},
          "execution_count": 59
        }
      ]
    },
    {
      "cell_type": "code",
      "source": [
        "plot_metrics_relationship(apriori_rule_lift, col1='lift', col2='confidence')"
      ],
      "metadata": {
        "colab": {
          "base_uri": "https://localhost:8080/",
          "height": 295
        },
        "id": "xtu3P7O5tzNX",
        "outputId": "9e97e71b-116a-4b62-dc6f-ec4c2bbe8b2c"
      },
      "execution_count": null,
      "outputs": [
        {
          "output_type": "display_data",
          "data": {
            "image/png": "[encoded data removed]",
            "text/plain": [
              "<Figure size 432x288 with 1 Axes>"
            ]
          },
          "metadata": {
            "needs_background": "light"
          }
        }
      ]
    },
    {
      "cell_type": "code",
      "source": [
        "apripri_rule = compute_association_rule(apriori_matrix, metric=\"confidence\", min_thresh=0.2)\n",
        "apripri_rule.head()"
      ],
      "metadata": {
        "colab": {
          "base_uri": "https://localhost:8080/",
          "height": 112
        },
        "id": "mgXK6_yNssIt",
        "outputId": "73fc43ab-443c-40cf-f94c-53478ddd12fb"
      },
      "execution_count": null,
      "outputs": [
        {
          "output_type": "execute_result",
          "data": {
            "text/html": [
              "<div>\n",
              "<style scoped>\n",
              "    .dataframe tbody tr th:only-of-type {\n",
              "        vertical-align: middle;\n",
              "    }\n",
              "\n",
              "    .dataframe tbody tr th {\n",
              "        vertical-align: top;\n",
              "    }\n",
              "\n",
              "    .dataframe thead th {\n",
              "        text-align: right;\n",
              "    }\n",
              "</style>\n",
              "<table border=\"1\" class=\"dataframe\">\n",
              "  <thead>\n",
              "    <tr style=\"text-align: right;\">\n",
              "      <th></th>\n",
              "      <th>antecedents</th>\n",
              "      <th>consequents</th>\n",
              "      <th>antecedent support</th>\n",
              "      <th>consequent support</th>\n",
              "      <th>support</th>\n",
              "      <th>confidence</th>\n",
              "      <th>lift</th>\n",
              "      <th>leverage</th>\n",
              "      <th>conviction</th>\n",
              "    </tr>\n",
              "  </thead>\n",
              "  <tbody>\n",
              "    <tr>\n",
              "      <th>0</th>\n",
              "      <td>(rolls/buns, sausage)</td>\n",
              "      <td>(whole milk)</td>\n",
              "      <td>0.005347</td>\n",
              "      <td>0.157923</td>\n",
              "      <td>0.001136</td>\n",
              "      <td>0.212500</td>\n",
              "      <td>1.345594</td>\n",
              "      <td>0.000292</td>\n",
              "      <td>1.069304</td>\n",
              "    </tr>\n",
              "    <tr>\n",
              "      <th>1</th>\n",
              "      <td>(yogurt, sausage)</td>\n",
              "      <td>(whole milk)</td>\n",
              "      <td>0.005748</td>\n",
              "      <td>0.157923</td>\n",
              "      <td>0.001470</td>\n",
              "      <td>0.255814</td>\n",
              "      <td>1.619866</td>\n",
              "      <td>0.000563</td>\n",
              "      <td>1.131541</td>\n",
              "    </tr>\n",
              "  </tbody>\n",
              "</table>\n",
              "</div>"
            ],
            "text/plain": [
              "             antecedents   consequents  ...  leverage  conviction\n",
              "0  (rolls/buns, sausage)  (whole milk)  ...  0.000292    1.069304\n",
              "1      (yogurt, sausage)  (whole milk)  ...  0.000563    1.131541\n",
              "\n",
              "[2 rows x 9 columns]"
            ]
          },
          "metadata": {},
          "execution_count": 61
        }
      ]
    },
    {
      "cell_type": "code",
      "source": [
        "algo1 = ['Fp Growth', fp_growth_exec_time]\n",
        "algo2 = ['Apriori', apriori_exec_time]\n",
        "\n",
        "compare_time_exec(algo1, algo2)"
      ],
      "metadata": {
        "colab": {
          "base_uri": "https://localhost:8080/",
          "height": 295
        },
        "id": "_uYTAaqluZHX",
        "outputId": "18d30d53-3f76-4c9c-f1c9-d5001d29222f"
      },
      "execution_count": null,
      "outputs": [
        {
          "output_type": "display_data",
          "data": {
            "image/png": "[encoded data removed]",
            "text/plain": [
              "<Figure size 432x288 with 1 Axes>"
            ]
          },
          "metadata": {
            "needs_background": "light"
          }
        }
      ]
    }
  ]
}